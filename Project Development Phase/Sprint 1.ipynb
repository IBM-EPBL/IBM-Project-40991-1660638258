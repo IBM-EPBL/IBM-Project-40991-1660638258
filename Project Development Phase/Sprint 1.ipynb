{
 "cells": [
  {
   "cell_type": "markdown",
   "id": "b1b8caaf",
   "metadata": {},
   "source": [
    "# Team ID:PNT2022TMID33022\n",
    "project name:Predicting the energy output of wind turbine \n",
    "based on weather condition"
   ]
  },
  {
   "cell_type": "markdown",
   "id": "92f55021",
   "metadata": {},
   "source": [
    "# Import Libraries"
   ]
  },
  {
   "cell_type": "code",
   "execution_count": 3,
   "id": "04fe7524",
   "metadata": {},
   "outputs": [],
   "source": [
    "import numpy as np\n",
    "import pandas as pd\n",
    "import matplotlib.pyplot as plt\n",
    "import seaborn as sns\n",
    "import joblib"
   ]
  },
  {
   "cell_type": "code",
   "execution_count": 4,
   "id": "9b78f990",
   "metadata": {},
   "outputs": [
    {
     "data": {
      "text/html": [
       "<div>\n",
       "<style scoped>\n",
       "    .dataframe tbody tr th:only-of-type {\n",
       "        vertical-align: middle;\n",
       "    }\n",
       "\n",
       "    .dataframe tbody tr th {\n",
       "        vertical-align: top;\n",
       "    }\n",
       "\n",
       "    .dataframe thead th {\n",
       "        text-align: right;\n",
       "    }\n",
       "</style>\n",
       "<table border=\"1\" class=\"dataframe\">\n",
       "  <thead>\n",
       "    <tr style=\"text-align: right;\">\n",
       "      <th></th>\n",
       "      <th>Date/Time</th>\n",
       "      <th>LV ActivePower (kW)</th>\n",
       "      <th>Wind Speed (m/s)</th>\n",
       "      <th>Theoretical_Power_Curve (KWh)</th>\n",
       "      <th>Wind Direction (°)</th>\n",
       "    </tr>\n",
       "  </thead>\n",
       "  <tbody>\n",
       "    <tr>\n",
       "      <th>0</th>\n",
       "      <td>01 01 2018 00:00</td>\n",
       "      <td>380.047791</td>\n",
       "      <td>5.311336</td>\n",
       "      <td>416.328908</td>\n",
       "      <td>259.994904</td>\n",
       "    </tr>\n",
       "    <tr>\n",
       "      <th>1</th>\n",
       "      <td>01 01 2018 00:10</td>\n",
       "      <td>453.769196</td>\n",
       "      <td>5.672167</td>\n",
       "      <td>519.917511</td>\n",
       "      <td>268.641113</td>\n",
       "    </tr>\n",
       "    <tr>\n",
       "      <th>2</th>\n",
       "      <td>01 01 2018 00:20</td>\n",
       "      <td>306.376587</td>\n",
       "      <td>5.216037</td>\n",
       "      <td>390.900016</td>\n",
       "      <td>272.564789</td>\n",
       "    </tr>\n",
       "    <tr>\n",
       "      <th>3</th>\n",
       "      <td>01 01 2018 00:30</td>\n",
       "      <td>419.645905</td>\n",
       "      <td>5.659674</td>\n",
       "      <td>516.127569</td>\n",
       "      <td>271.258087</td>\n",
       "    </tr>\n",
       "    <tr>\n",
       "      <th>4</th>\n",
       "      <td>01 01 2018 00:40</td>\n",
       "      <td>380.650696</td>\n",
       "      <td>5.577941</td>\n",
       "      <td>491.702972</td>\n",
       "      <td>265.674286</td>\n",
       "    </tr>\n",
       "  </tbody>\n",
       "</table>\n",
       "</div>"
      ],
      "text/plain": [
       "          Date/Time  LV ActivePower (kW)  Wind Speed (m/s)  \\\n",
       "0  01 01 2018 00:00           380.047791          5.311336   \n",
       "1  01 01 2018 00:10           453.769196          5.672167   \n",
       "2  01 01 2018 00:20           306.376587          5.216037   \n",
       "3  01 01 2018 00:30           419.645905          5.659674   \n",
       "4  01 01 2018 00:40           380.650696          5.577941   \n",
       "\n",
       "   Theoretical_Power_Curve (KWh)  Wind Direction (°)  \n",
       "0                     416.328908          259.994904  \n",
       "1                     519.917511          268.641113  \n",
       "2                     390.900016          272.564789  \n",
       "3                     516.127569          271.258087  \n",
       "4                     491.702972          265.674286  "
      ]
     },
     "execution_count": 4,
     "metadata": {},
     "output_type": "execute_result"
    }
   ],
   "source": [
    "data = pd.read_csv(\"Wind turbine.csv\")\n",
    "data.head()"
   ]
  },
  {
   "cell_type": "code",
   "execution_count": 5,
   "id": "a754f5bd",
   "metadata": {},
   "outputs": [
    {
     "data": {
      "text/html": [
       "<div>\n",
       "<style scoped>\n",
       "    .dataframe tbody tr th:only-of-type {\n",
       "        vertical-align: middle;\n",
       "    }\n",
       "\n",
       "    .dataframe tbody tr th {\n",
       "        vertical-align: top;\n",
       "    }\n",
       "\n",
       "    .dataframe thead th {\n",
       "        text-align: right;\n",
       "    }\n",
       "</style>\n",
       "<table border=\"1\" class=\"dataframe\">\n",
       "  <thead>\n",
       "    <tr style=\"text-align: right;\">\n",
       "      <th></th>\n",
       "      <th>LV ActivePower (kW)</th>\n",
       "      <th>Wind Speed (m/s)</th>\n",
       "      <th>Theoretical_Power_Curve (KWh)</th>\n",
       "      <th>Wind Direction (°)</th>\n",
       "    </tr>\n",
       "  </thead>\n",
       "  <tbody>\n",
       "    <tr>\n",
       "      <th>LV ActivePower (kW)</th>\n",
       "      <td>1.000000</td>\n",
       "      <td>0.912774</td>\n",
       "      <td>0.949918</td>\n",
       "      <td>-0.062702</td>\n",
       "    </tr>\n",
       "    <tr>\n",
       "      <th>Wind Speed (m/s)</th>\n",
       "      <td>0.912774</td>\n",
       "      <td>1.000000</td>\n",
       "      <td>0.944209</td>\n",
       "      <td>-0.077188</td>\n",
       "    </tr>\n",
       "    <tr>\n",
       "      <th>Theoretical_Power_Curve (KWh)</th>\n",
       "      <td>0.949918</td>\n",
       "      <td>0.944209</td>\n",
       "      <td>1.000000</td>\n",
       "      <td>-0.099076</td>\n",
       "    </tr>\n",
       "    <tr>\n",
       "      <th>Wind Direction (°)</th>\n",
       "      <td>-0.062702</td>\n",
       "      <td>-0.077188</td>\n",
       "      <td>-0.099076</td>\n",
       "      <td>1.000000</td>\n",
       "    </tr>\n",
       "  </tbody>\n",
       "</table>\n",
       "</div>"
      ],
      "text/plain": [
       "                               LV ActivePower (kW)  Wind Speed (m/s)  \\\n",
       "LV ActivePower (kW)                       1.000000          0.912774   \n",
       "Wind Speed (m/s)                          0.912774          1.000000   \n",
       "Theoretical_Power_Curve (KWh)             0.949918          0.944209   \n",
       "Wind Direction (°)                       -0.062702         -0.077188   \n",
       "\n",
       "                               Theoretical_Power_Curve (KWh)  \\\n",
       "LV ActivePower (kW)                                 0.949918   \n",
       "Wind Speed (m/s)                                    0.944209   \n",
       "Theoretical_Power_Curve (KWh)                       1.000000   \n",
       "Wind Direction (°)                                 -0.099076   \n",
       "\n",
       "                               Wind Direction (°)  \n",
       "LV ActivePower (kW)                     -0.062702  \n",
       "Wind Speed (m/s)                        -0.077188  \n",
       "Theoretical_Power_Curve (KWh)           -0.099076  \n",
       "Wind Direction (°)                       1.000000  "
      ]
     },
     "execution_count": 5,
     "metadata": {},
     "output_type": "execute_result"
    }
   ],
   "source": [
    "data.corr()"
   ]
  },
  {
   "cell_type": "code",
   "execution_count": 6,
   "id": "85cd145b",
   "metadata": {},
   "outputs": [
    {
     "data": {
      "text/plain": [
       "<AxesSubplot:>"
      ]
     },
     "execution_count": 6,
     "metadata": {},
     "output_type": "execute_result"
    },
    {
     "data": {
      "image/png": "[encoded data removed]",
      "text/plain": [
       "<Figure size 432x288 with 2 Axes>"
      ]
     },
     "metadata": {
      "needs_background": "light"
     },
     "output_type": "display_data"
    }
   ],
   "source": [
    "sns.heatmap(data.corr(),annot=True)"
   ]
  },
  {
   "cell_type": "markdown",
   "id": "15c4429e",
   "metadata": {},
   "source": [
    "# Handling the null values"
   ]
  },
  {
   "cell_type": "code",
   "execution_count": 7,
   "id": "bdecfe17",
   "metadata": {},
   "outputs": [
    {
     "data": {
      "text/plain": [
       "Date/Time                        0\n",
       "LV ActivePower (kW)              0\n",
       "Wind Speed (m/s)                 0\n",
       "Theoretical_Power_Curve (KWh)    0\n",
       "Wind Direction (°)               0\n",
       "dtype: int64"
      ]
     },
     "execution_count": 7,
     "metadata": {},
     "output_type": "execute_result"
    }
   ],
   "source": [
    "data.isna().sum()"
   ]
  },
  {
   "cell_type": "code",
   "execution_count": 8,
   "id": "83cc90aa",
   "metadata": {},
   "outputs": [
    {
     "data": {
      "text/plain": [
       "<AxesSubplot:>"
      ]
     },
     "execution_count": 8,
     "metadata": {},
     "output_type": "execute_result"
    },
    {
     "data": {
      "image/png": "[encoded data removed]",
      "text/plain": [
       "<Figure size 864x576 with 2 Axes>"
      ]
     },
     "metadata": {
      "needs_background": "light"
     },
     "output_type": "display_data"
    }
   ],
   "source": [
    "fig=plt.figure(figsize=(12,8))\n",
    "sns.heatmap(data.isna(),yticklabels=False)"
   ]
  },
  {
   "cell_type": "code",
   "execution_count": 23,
   "id": "6dfdbf6c",
   "metadata": {},
   "outputs": [
    {
     "data": {
      "text/html": [
       "<div>\n",
       "<style scoped>\n",
       "    .dataframe tbody tr th:only-of-type {\n",
       "        vertical-align: middle;\n",
       "    }\n",
       "\n",
       "    .dataframe tbody tr th {\n",
       "        vertical-align: top;\n",
       "    }\n",
       "\n",
       "    .dataframe thead th {\n",
       "        text-align: right;\n",
       "    }\n",
       "</style>\n",
       "<table border=\"1\" class=\"dataframe\">\n",
       "  <thead>\n",
       "    <tr style=\"text-align: right;\">\n",
       "      <th></th>\n",
       "      <th>count</th>\n",
       "      <th>mean</th>\n",
       "      <th>std</th>\n",
       "      <th>min</th>\n",
       "      <th>25%</th>\n",
       "      <th>50%</th>\n",
       "      <th>75%</th>\n",
       "      <th>max</th>\n",
       "    </tr>\n",
       "  </thead>\n",
       "  <tbody>\n",
       "    <tr>\n",
       "      <th>LV ActivePower (kW)</th>\n",
       "      <td>50530.0</td>\n",
       "      <td>1307.684332</td>\n",
       "      <td>1312.459242</td>\n",
       "      <td>-2.471405</td>\n",
       "      <td>50.677890</td>\n",
       "      <td>825.838074</td>\n",
       "      <td>2482.507568</td>\n",
       "      <td>3618.732910</td>\n",
       "    </tr>\n",
       "    <tr>\n",
       "      <th>Wind Speed (m/s)</th>\n",
       "      <td>50530.0</td>\n",
       "      <td>7.557952</td>\n",
       "      <td>4.227166</td>\n",
       "      <td>0.000000</td>\n",
       "      <td>4.201395</td>\n",
       "      <td>7.104594</td>\n",
       "      <td>10.300020</td>\n",
       "      <td>25.206011</td>\n",
       "    </tr>\n",
       "    <tr>\n",
       "      <th>Theoretical_Power_Curve (KWh)</th>\n",
       "      <td>50530.0</td>\n",
       "      <td>1492.175463</td>\n",
       "      <td>1368.018238</td>\n",
       "      <td>0.000000</td>\n",
       "      <td>161.328167</td>\n",
       "      <td>1063.776283</td>\n",
       "      <td>2964.972462</td>\n",
       "      <td>3600.000000</td>\n",
       "    </tr>\n",
       "    <tr>\n",
       "      <th>Wind Direction (°)</th>\n",
       "      <td>50530.0</td>\n",
       "      <td>123.687559</td>\n",
       "      <td>93.443736</td>\n",
       "      <td>0.000000</td>\n",
       "      <td>49.315437</td>\n",
       "      <td>73.712978</td>\n",
       "      <td>201.696720</td>\n",
       "      <td>359.997589</td>\n",
       "    </tr>\n",
       "  </tbody>\n",
       "</table>\n",
       "</div>"
      ],
      "text/plain": [
       "                                 count         mean          std       min  \\\n",
       "LV ActivePower (kW)            50530.0  1307.684332  1312.459242 -2.471405   \n",
       "Wind Speed (m/s)               50530.0     7.557952     4.227166  0.000000   \n",
       "Theoretical_Power_Curve (KWh)  50530.0  1492.175463  1368.018238  0.000000   \n",
       "Wind Direction (°)             50530.0   123.687559    93.443736  0.000000   \n",
       "\n",
       "                                      25%          50%          75%  \\\n",
       "LV ActivePower (kW)             50.677890   825.838074  2482.507568   \n",
       "Wind Speed (m/s)                 4.201395     7.104594    10.300020   \n",
       "Theoretical_Power_Curve (KWh)  161.328167  1063.776283  2964.972462   \n",
       "Wind Direction (°)              49.315437    73.712978   201.696720   \n",
       "\n",
       "                                       max  \n",
       "LV ActivePower (kW)            3618.732910  \n",
       "Wind Speed (m/s)                 25.206011  \n",
       "Theoretical_Power_Curve (KWh)  3600.000000  \n",
       "Wind Direction (°)              359.997589  "
      ]
     },
     "execution_count": 23,
     "metadata": {},
     "output_type": "execute_result"
    }
   ],
   "source": [
    "data.describe().T"
   ]
  },
  {
   "cell_type": "code",
   "execution_count": 59,
   "id": "a4f4e33d",
   "metadata": {},
   "outputs": [
    {
     "data": {
      "text/plain": [
       "<matplotlib.collections.PathCollection at 0x128484a6250>"
      ]
     },
     "execution_count": 59,
     "metadata": {},
     "output_type": "execute_result"
    },
    {
     "data": {
      "image/png": "[encoded data removed]",
      "text/plain": [
       "<Figure size 432x288 with 1 Axes>"
      ]
     },
     "metadata": {
      "needs_background": "light"
     },
     "output_type": "display_data"
    }
   ],
   "source": [
    "plt.scatter(data['Theoretical_Power_Curve (KWh)'],data['Wind Speed (m/s)'])"
   ]
  },
  {
   "cell_type": "markdown",
   "id": "6da8b7cc",
   "metadata": {},
   "source": [
    "# Independent and Dependent variables"
   ]
  },
  {
   "cell_type": "code",
   "execution_count": 9,
   "id": "e29836cd",
   "metadata": {},
   "outputs": [],
   "source": [
    "x=data.drop(columns=['LV ActivePower (kW)'])\n",
    "\n",
    "y=data['LV ActivePower (kW)']"
   ]
  },
  {
   "cell_type": "code",
   "execution_count": 46,
   "id": "41148489",
   "metadata": {},
   "outputs": [],
   "source": [
    "x=data.drop(columns=['LV ActivePower (kW)']).values"
   ]
  },
  {
   "cell_type": "code",
   "execution_count": 49,
   "id": "259b386a",
   "metadata": {},
   "outputs": [
    {
     "data": {
      "text/plain": [
       "array([['01 01 2018 00:00', 5.31133604049682, 416.328907824861,\n",
       "        259.994903564453],\n",
       "       ['01 01 2018 00:10', 5.67216682434082, 519.917511061494,\n",
       "        268.64111328125],\n",
       "       ['01 01 2018 00:20', 5.21603679656982, 390.900015810951,\n",
       "        272.564788818359],\n",
       "       ...,\n",
       "       ['31 12 2018 23:30', 8.43535804748535, 1788.28475526396,\n",
       "        84.7425003051757],\n",
       "       ['31 12 2018 23:40', 9.42136573791503, 2418.38250336009,\n",
       "        84.2979125976562],\n",
       "       ['31 12 2018 23:50', 9.97933197021484, 2779.18409628274,\n",
       "        82.2746200561523]], dtype=object)"
      ]
     },
     "execution_count": 49,
     "metadata": {},
     "output_type": "execute_result"
    }
   ],
   "source": [
    "x"
   ]
  },
  {
   "cell_type": "code",
   "execution_count": 47,
   "id": "6e43e867",
   "metadata": {},
   "outputs": [],
   "source": [
    "y=data['LV ActivePower (kW)'].values"
   ]
  },
  {
   "cell_type": "code",
   "execution_count": 48,
   "id": "03e05fe9",
   "metadata": {},
   "outputs": [
    {
     "data": {
      "text/plain": [
       "array([ 380.04779053,  453.76919556,  306.37658691, ..., 2201.10693359,\n",
       "       2515.6940918 , 2820.46606445])"
      ]
     },
     "execution_count": 48,
     "metadata": {},
     "output_type": "execute_result"
    }
   ],
   "source": [
    "y"
   ]
  },
  {
   "cell_type": "markdown",
   "id": "bc1b56ca",
   "metadata": {},
   "source": [
    "# Splitting train and test sets"
   ]
  },
  {
   "cell_type": "code",
   "execution_count": 51,
   "id": "c59d4d15",
   "metadata": {},
   "outputs": [],
   "source": [
    "from sklearn.model_selection import train_test_split"
   ]
  },
  {
   "cell_type": "code",
   "execution_count": 52,
   "id": "df14a4cd",
   "metadata": {},
   "outputs": [],
   "source": [
    "x_train,x_test,y_train,y_test=train_test_split(x,y,test_size=0.2,random_state=100)"
   ]
  },
  {
   "cell_type": "code",
   "execution_count": 53,
   "id": "f38ecb9d",
   "metadata": {},
   "outputs": [
    {
     "data": {
      "text/plain": [
       "array([['29 03 2018 18:20', 2.73557209968566, 0.0, 56.0006790161132],\n",
       "       ['07 06 2018 06:40', 2.67128205299377, 0.0, 75.3785171508789],\n",
       "       ['20 10 2018 12:00', 3.41321802139282, 42.8829073408742,\n",
       "        14.6807498931884],\n",
       "       ...,\n",
       "       ['30 03 2018 15:50', 2.84113001823425, 0.0, 228.681900024414],\n",
       "       ['13 04 2018 18:00', 3.72345304489135, 81.0212420895296,\n",
       "        50.4966316223144],\n",
       "       ['04 10 2018 22:40', 11.0031900405883, 3273.56713884374,\n",
       "        52.1219902038574]], dtype=object)"
      ]
     },
     "execution_count": 53,
     "metadata": {},
     "output_type": "execute_result"
    }
   ],
   "source": [
    "x_train"
   ]
  },
  {
   "cell_type": "code",
   "execution_count": 55,
   "id": "11c5f31b",
   "metadata": {},
   "outputs": [
    {
     "data": {
      "text/plain": [
       "array([  29.8223896 ,    0.        ,   45.25106049, ...,    0.        ,\n",
       "         53.6293602 , 2806.25      ])"
      ]
     },
     "execution_count": 55,
     "metadata": {},
     "output_type": "execute_result"
    }
   ],
   "source": [
    "y_train"
   ]
  },
  {
   "cell_type": "code",
   "execution_count": 56,
   "id": "3f7083db",
   "metadata": {},
   "outputs": [
    {
     "data": {
      "text/plain": [
       "array([['21 10 2018 11:30', 5.89308595657348, 589.509973705867,\n",
       "        28.491750717163],\n",
       "       ['07 02 2018 07:10', 5.25200796127319, 400.408306436924,\n",
       "        131.36880493164],\n",
       "       ['14 11 2018 16:10', 5.3863821029663, 436.901697458568,\n",
       "        33.8353385925292],\n",
       "       ...,\n",
       "       ['08 01 2018 19:10', 6.66071510314941, 870.305241279626,\n",
       "        219.86180114746],\n",
       "       ['04 04 2018 09:50', 1.9609990119934, 0.0, 14.1540899276733],\n",
       "       ['30 01 2018 16:50', 13.8598098754882, 3600.0, 0.0]], dtype=object)"
      ]
     },
     "execution_count": 56,
     "metadata": {},
     "output_type": "execute_result"
    }
   ],
   "source": [
    "x_test"
   ]
  },
  {
   "cell_type": "code",
   "execution_count": 57,
   "id": "9703b07c",
   "metadata": {},
   "outputs": [
    {
     "data": {
      "text/plain": [
       "array([505.74609375, 357.5486145 ,   0.        , ..., 757.28381348,\n",
       "         0.        ,   0.        ])"
      ]
     },
     "execution_count": 57,
     "metadata": {},
     "output_type": "execute_result"
    }
   ],
   "source": [
    "y_test"
   ]
  }
 ],
 "metadata": {
  "kernelspec": {
   "display_name": "Python 3 (ipykernel)",
   "language": "python",
   "name": "python3"
  },
  "language_info": {
   "codemirror_mode": {
    "name": "ipython",
    "version": 3
   },
   "file_extension": ".py",
   "mimetype": "text/x-python",
   "name": "python",
   "nbconvert_exporter": "python",
   "pygments_lexer": "ipython3",
   "version": "3.9.7"
  }
 },
 "nbformat": 4,
 "nbformat_minor": 5
}
